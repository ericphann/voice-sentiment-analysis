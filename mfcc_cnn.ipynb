{
  "nbformat": 4,
  "nbformat_minor": 0,
  "metadata": {
    "colab": {
      "provenance": [],
      "gpuType": "T4",
      "authorship_tag": "ABX9TyMwwF38IpIpyt9qhUF6HJoL",
      "include_colab_link": true
    },
    "kernelspec": {
      "name": "python3",
      "display_name": "Python 3"
    },
    "language_info": {
      "name": "python"
    },
    "accelerator": "GPU"
  },
  "cells": [
    {
      "cell_type": "markdown",
      "metadata": {
        "id": "view-in-github",
        "colab_type": "text"
      },
      "source": [
        "<a href=\"https://colab.research.google.com/github/ericphann/voice-sentiment-analysis/blob/main/mfcc_cnn.ipynb\" target=\"_parent\"><img src=\"https://colab.research.google.com/assets/colab-badge.svg\" alt=\"Open In Colab\"/></a>"
      ]
    },
    {
      "cell_type": "markdown",
      "source": [
        "Eric Phann / Jessica Ricks  \n",
        "DSBA 6156: Applied Machine Learning"
      ],
      "metadata": {
        "id": "1ubnLRucWGLw"
      }
    },
    {
      "cell_type": "markdown",
      "source": [
        "# 🔉 Approach #2: Mel-Frequency Cepstral Coefficients"
      ],
      "metadata": {
        "id": "bGlOHCxTWUaO"
      }
    },
    {
      "cell_type": "markdown",
      "source": [
        "This notebook will show how to extract features from the audio sample using Mel-Frequency Cepstral coefficients and train a neural network to classify sentiment."
      ],
      "metadata": {
        "id": "hKQv084BWXff"
      }
    },
    {
      "cell_type": "markdown",
      "source": [
        "## 1. Installing dependencies"
      ],
      "metadata": {
        "id": "_gT3K1msXIKW"
      }
    },
    {
      "cell_type": "markdown",
      "source": [
        "We will install dependencies and use Cuda to speed up the training process."
      ],
      "metadata": {
        "id": "_G6dtd5yXVH_"
      }
    },
    {
      "cell_type": "code",
      "execution_count": 1,
      "metadata": {
        "id": "0AtAiLTFUTar"
      },
      "outputs": [],
      "source": [
        "import os\n",
        "import numpy as np\n",
        "import librosa\n",
        "import librosa.display\n",
        "import torch\n",
        "from sklearn.model_selection import train_test_split\n",
        "from tensorflow.keras.models import Sequential\n",
        "from tensorflow.keras.layers import Conv2D, MaxPooling2D, Flatten, Dense, Dropout\n",
        "from tensorflow.keras.utils import to_categorical\n",
        "import warnings\n",
        "warnings.filterwarnings('ignore')"
      ]
    },
    {
      "cell_type": "code",
      "source": [
        "if torch.cuda.is_available():\n",
        "    device = torch.device(\"cuda\")\n",
        "    print(\"GPU detected:\", torch.cuda.get_device_name(0))\n",
        "else:\n",
        "    device = torch.device(\"cpu\")\n",
        "    print(\"No GPU detected, using CPU.\")"
      ],
      "metadata": {
        "colab": {
          "base_uri": "https://localhost:8080/"
        },
        "id": "RCPMFVnfXT9B",
        "outputId": "6b5698cc-1afe-485d-b256-783ac1a91ba6"
      },
      "execution_count": 2,
      "outputs": [
        {
          "output_type": "stream",
          "name": "stdout",
          "text": [
            "GPU detected: Tesla T4\n"
          ]
        }
      ]
    },
    {
      "cell_type": "markdown",
      "source": [
        "## 2. Import and preprocess dataset"
      ],
      "metadata": {
        "id": "3oOzU7qVYMgi"
      }
    },
    {
      "cell_type": "markdown",
      "source": [
        "We first import the RAVDESS dataset from Kaggle."
      ],
      "metadata": {
        "id": "MTtFZmuaYPI4"
      }
    },
    {
      "cell_type": "code",
      "source": [
        "import kagglehub\n",
        "\n",
        "# Download latest version\n",
        "path = kagglehub.dataset_download(\"uwrfkaggler/ravdess-emotional-speech-audio\")\n",
        "\n",
        "print(\"Path to dataset files:\", path)"
      ],
      "metadata": {
        "colab": {
          "base_uri": "https://localhost:8080/"
        },
        "id": "VnjTalz_XHXd",
        "outputId": "f2d9b7df-fbb6-4930-88f8-76265d43e865"
      },
      "execution_count": 3,
      "outputs": [
        {
          "output_type": "stream",
          "name": "stdout",
          "text": [
            "Path to dataset files: /root/.cache/kagglehub/datasets/uwrfkaggler/ravdess-emotional-speech-audio/versions/1\n"
          ]
        }
      ]
    },
    {
      "cell_type": "markdown",
      "source": [
        "We then create a function to extract the ground truth emotion from the file name. For more information please see the [RAVDESS page](https://zenodo.org/records/1188976)."
      ],
      "metadata": {
        "id": "7prmKxFfagcD"
      }
    },
    {
      "cell_type": "code",
      "source": [
        "def extract_emotion(file_name):\n",
        "    emotion_map = {\n",
        "        \"01\": \"Neutral\",\n",
        "        \"02\": \"Calm\",\n",
        "        \"03\": \"Happy\",\n",
        "        \"04\": \"Sad\",\n",
        "        \"05\": \"Angry\",\n",
        "        \"06\": \"Fearful\",\n",
        "        \"07\": \"Disgust\",\n",
        "        \"08\": \"Surprised\",\n",
        "    }\n",
        "    emotion_code = file_name.split(\"-\")[2]  # Third element in file name\n",
        "    return emotion_map[emotion_code]"
      ],
      "metadata": {
        "id": "kQOfHSZXZ55u"
      },
      "execution_count": 4,
      "outputs": []
    },
    {
      "cell_type": "markdown",
      "source": [
        "To be able to use these labels for sentiment analysis, we will need to classify them as positive, negative, or neutral as follows:\n",
        "\n",
        "\n",
        "*   Positive: happy, surprised\n",
        "*   Neutral: neutral, calm\n",
        "*   Negative: sad, angry, fearful, disgust  \n",
        "\n",
        "These groupings are purely based on intuition.\n",
        "\n"
      ],
      "metadata": {
        "id": "9oKqKBVxa9aN"
      }
    },
    {
      "cell_type": "markdown",
      "source": [
        "Let's create a function to map sentiments based on the emotions."
      ],
      "metadata": {
        "id": "nwtV0XdDbCWP"
      }
    },
    {
      "cell_type": "code",
      "source": [
        "def map_to_sentiment(emotion):\n",
        "    if emotion in [\"Happy\", \"Surprised\"]:\n",
        "        return \"Positive\"\n",
        "    elif emotion in [\"Sad\", \"Angry\", \"Fearful\", \"Disgust\"]:\n",
        "        return \"Negative\"\n",
        "    else:\n",
        "        return \"Neutral\""
      ],
      "metadata": {
        "id": "ibjNrsgQamvC"
      },
      "execution_count": 5,
      "outputs": []
    },
    {
      "cell_type": "markdown",
      "source": [
        "We also will create a function to extract [Mel Frequency Cepstral Coefficients](https://en.wikipedia.org/wiki/Mel-frequency_cepstrum) (MFCC) from the audio files. At a high level, MFCC is a representation of the short-term power spectrum of a sound. This is commonly used in speech processing tasks such as voice recognition. The standard for the spectrogram is 12-13 MFCCs. Below is an example image."
      ],
      "metadata": {
        "id": "O_S8tJbabQhL"
      }
    },
    {
      "cell_type": "markdown",
      "source": [
        "![mfcc.png](data:image/png;base64,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)"
      ],
      "metadata": {
        "id": "PPTxBQq23U7h"
      }
    },
    {
      "cell_type": "code",
      "source": [
        "def extract_mfcc(file_path, max_pad_len=174):\n",
        "    try:\n",
        "        audio, sample_rate = librosa.load(file_path, sr=16000)\n",
        "        mfcc = librosa.feature.mfcc(y=audio, sr=sample_rate, n_mfcc=12) # extract 12 MFCC: the standard is 12-13\n",
        "        pad_width = max_pad_len - mfcc.shape[1]\n",
        "        if pad_width > 0:\n",
        "            mfcc = np.pad(mfcc, ((0, 0), (0, pad_width)), mode='constant')\n",
        "        else:\n",
        "            mfcc = mfcc[:, :max_pad_len]\n",
        "        return mfcc\n",
        "    except Exception as e:\n",
        "        print(f\"Error processing {file_path}: {e}\")\n",
        "        return None"
      ],
      "metadata": {
        "id": "RZL9NluPbthI"
      },
      "execution_count": 6,
      "outputs": []
    },
    {
      "cell_type": "markdown",
      "source": [
        "Now, let's preprocess our dataset using these functions."
      ],
      "metadata": {
        "id": "N7M_EfCvcEeF"
      }
    },
    {
      "cell_type": "code",
      "source": [
        "import os\n",
        "import pandas as pd\n",
        "!pip install resampy\n",
        "!pip install tqdm\n",
        "import resampy\n",
        "from tqdm import tqdm\n",
        "\n",
        "results = []\n",
        "\n",
        "audio_dir = \"/root/.cache/kagglehub/datasets/uwrfkaggler/ravdess-emotional-speech-audio/versions/1\"\n",
        "for subdir, dirs, files in tqdm(list(os.walk(audio_dir))):\n",
        "    for file in files:\n",
        "        if file.endswith(\".wav\"):\n",
        "            path = os.path.join(subdir, file)\n",
        "            emotion = extract_emotion(file)\n",
        "            sentiment = map_to_sentiment(emotion)\n",
        "\n",
        "            # Extract MFCC from the audio file\n",
        "            mfcc =  extract_mfcc(path)\n",
        "\n",
        "            # Save results\n",
        "            results.append({\n",
        "                \"File\": file,\n",
        "                \"True Emotion\": emotion,\n",
        "                \"True Sentiment\": sentiment,\n",
        "                \"MFCC\": mfcc\n",
        "            })\n",
        "\n",
        "df = pd.DataFrame(results)\n",
        "df.to_csv(\"ravdess_MFCC.csv\", index=False)"
      ],
      "metadata": {
        "colab": {
          "base_uri": "https://localhost:8080/"
        },
        "id": "WsXd37J3cSUY",
        "outputId": "1ee48279-a9b6-4f06-98e0-b4c1b644b995"
      },
      "execution_count": 7,
      "outputs": [
        {
          "output_type": "stream",
          "name": "stdout",
          "text": [
            "Requirement already satisfied: resampy in /usr/local/lib/python3.10/dist-packages (0.4.3)\n",
            "Requirement already satisfied: numpy>=1.17 in /usr/local/lib/python3.10/dist-packages (from resampy) (1.26.4)\n",
            "Requirement already satisfied: numba>=0.53 in /usr/local/lib/python3.10/dist-packages (from resampy) (0.60.0)\n",
            "Requirement already satisfied: llvmlite<0.44,>=0.43.0dev0 in /usr/local/lib/python3.10/dist-packages (from numba>=0.53->resampy) (0.43.0)\n",
            "Requirement already satisfied: tqdm in /usr/local/lib/python3.10/dist-packages (4.66.6)\n"
          ]
        },
        {
          "output_type": "stream",
          "name": "stderr",
          "text": [
            "100%|██████████| 50/50 [00:38<00:00,  1.30it/s]\n"
          ]
        }
      ]
    },
    {
      "cell_type": "code",
      "source": [
        "df.head(10)"
      ],
      "metadata": {
        "colab": {
          "base_uri": "https://localhost:8080/",
          "height": 363
        },
        "id": "Der-mAr5c7BA",
        "outputId": "62b3b519-2151-4d57-d740-2fd9afe162b0"
      },
      "execution_count": 8,
      "outputs": [
        {
          "output_type": "execute_result",
          "data": {
            "text/plain": [
              "                       File True Emotion True Sentiment  \\\n",
              "0  03-01-05-02-02-02-04.wav        Angry       Negative   \n",
              "1  03-01-08-01-01-01-04.wav    Surprised       Positive   \n",
              "2  03-01-03-01-01-02-04.wav        Happy       Positive   \n",
              "3  03-01-02-02-01-01-04.wav         Calm        Neutral   \n",
              "4  03-01-04-01-01-02-04.wav          Sad       Negative   \n",
              "5  03-01-08-02-01-02-04.wav    Surprised       Positive   \n",
              "6  03-01-04-02-02-02-04.wav          Sad       Negative   \n",
              "7  03-01-07-02-02-02-04.wav      Disgust       Negative   \n",
              "8  03-01-04-02-01-02-04.wav          Sad       Negative   \n",
              "9  03-01-03-01-02-01-04.wav        Happy       Positive   \n",
              "\n",
              "                                                MFCC  \n",
              "0  [[-676.31586, -676.31586, -676.31586, -676.315...  \n",
              "1  [[-789.8456, -789.8456, -789.8456, -789.8456, ...  \n",
              "2  [[-784.54974, -784.54974, -784.54974, -784.549...  \n",
              "3  [[-866.01416, -866.01416, -866.01416, -866.014...  \n",
              "4  [[-756.0085, -756.0085, -756.0085, -756.0085, ...  \n",
              "5  [[-643.07825, -643.07825, -643.07825, -643.078...  \n",
              "6  [[-659.72144, -659.72144, -659.72144, -659.721...  \n",
              "7  [[-713.161, -713.161, -713.161, -713.161, -713...  \n",
              "8  [[-647.8507, -644.9554, -645.64307, -648.4372,...  \n",
              "9  [[-820.6902, -820.6902, -820.6902, -820.6902, ...  "
            ],
            "text/html": [
              "\n",
              "  <div id=\"df-0b8c5ed7-05ac-491b-9e7f-565120edba19\" class=\"colab-df-container\">\n",
              "    <div>\n",
              "<style scoped>\n",
              "    .dataframe tbody tr th:only-of-type {\n",
              "        vertical-align: middle;\n",
              "    }\n",
              "\n",
              "    .dataframe tbody tr th {\n",
              "        vertical-align: top;\n",
              "    }\n",
              "\n",
              "    .dataframe thead th {\n",
              "        text-align: right;\n",
              "    }\n",
              "</style>\n",
              "<table border=\"1\" class=\"dataframe\">\n",
              "  <thead>\n",
              "    <tr style=\"text-align: right;\">\n",
              "      <th></th>\n",
              "      <th>File</th>\n",
              "      <th>True Emotion</th>\n",
              "      <th>True Sentiment</th>\n",
              "      <th>MFCC</th>\n",
              "    </tr>\n",
              "  </thead>\n",
              "  <tbody>\n",
              "    <tr>\n",
              "      <th>0</th>\n",
              "      <td>03-01-05-02-02-02-04.wav</td>\n",
              "      <td>Angry</td>\n",
              "      <td>Negative</td>\n",
              "      <td>[[-676.31586, -676.31586, -676.31586, -676.315...</td>\n",
              "    </tr>\n",
              "    <tr>\n",
              "      <th>1</th>\n",
              "      <td>03-01-08-01-01-01-04.wav</td>\n",
              "      <td>Surprised</td>\n",
              "      <td>Positive</td>\n",
              "      <td>[[-789.8456, -789.8456, -789.8456, -789.8456, ...</td>\n",
              "    </tr>\n",
              "    <tr>\n",
              "      <th>2</th>\n",
              "      <td>03-01-03-01-01-02-04.wav</td>\n",
              "      <td>Happy</td>\n",
              "      <td>Positive</td>\n",
              "      <td>[[-784.54974, -784.54974, -784.54974, -784.549...</td>\n",
              "    </tr>\n",
              "    <tr>\n",
              "      <th>3</th>\n",
              "      <td>03-01-02-02-01-01-04.wav</td>\n",
              "      <td>Calm</td>\n",
              "      <td>Neutral</td>\n",
              "      <td>[[-866.01416, -866.01416, -866.01416, -866.014...</td>\n",
              "    </tr>\n",
              "    <tr>\n",
              "      <th>4</th>\n",
              "      <td>03-01-04-01-01-02-04.wav</td>\n",
              "      <td>Sad</td>\n",
              "      <td>Negative</td>\n",
              "      <td>[[-756.0085, -756.0085, -756.0085, -756.0085, ...</td>\n",
              "    </tr>\n",
              "    <tr>\n",
              "      <th>5</th>\n",
              "      <td>03-01-08-02-01-02-04.wav</td>\n",
              "      <td>Surprised</td>\n",
              "      <td>Positive</td>\n",
              "      <td>[[-643.07825, -643.07825, -643.07825, -643.078...</td>\n",
              "    </tr>\n",
              "    <tr>\n",
              "      <th>6</th>\n",
              "      <td>03-01-04-02-02-02-04.wav</td>\n",
              "      <td>Sad</td>\n",
              "      <td>Negative</td>\n",
              "      <td>[[-659.72144, -659.72144, -659.72144, -659.721...</td>\n",
              "    </tr>\n",
              "    <tr>\n",
              "      <th>7</th>\n",
              "      <td>03-01-07-02-02-02-04.wav</td>\n",
              "      <td>Disgust</td>\n",
              "      <td>Negative</td>\n",
              "      <td>[[-713.161, -713.161, -713.161, -713.161, -713...</td>\n",
              "    </tr>\n",
              "    <tr>\n",
              "      <th>8</th>\n",
              "      <td>03-01-04-02-01-02-04.wav</td>\n",
              "      <td>Sad</td>\n",
              "      <td>Negative</td>\n",
              "      <td>[[-647.8507, -644.9554, -645.64307, -648.4372,...</td>\n",
              "    </tr>\n",
              "    <tr>\n",
              "      <th>9</th>\n",
              "      <td>03-01-03-01-02-01-04.wav</td>\n",
              "      <td>Happy</td>\n",
              "      <td>Positive</td>\n",
              "      <td>[[-820.6902, -820.6902, -820.6902, -820.6902, ...</td>\n",
              "    </tr>\n",
              "  </tbody>\n",
              "</table>\n",
              "</div>\n",
              "    <div class=\"colab-df-buttons\">\n",
              "\n",
              "  <div class=\"colab-df-container\">\n",
              "    <button class=\"colab-df-convert\" onclick=\"convertToInteractive('df-0b8c5ed7-05ac-491b-9e7f-565120edba19')\"\n",
              "            title=\"Convert this dataframe to an interactive table.\"\n",
              "            style=\"display:none;\">\n",
              "\n",
              "  <svg xmlns=\"http://www.w3.org/2000/svg\" height=\"24px\" viewBox=\"0 -960 960 960\">\n",
              "    <path d=\"M120-120v-720h720v720H120Zm60-500h600v-160H180v160Zm220 220h160v-160H400v160Zm0 220h160v-160H400v160ZM180-400h160v-160H180v160Zm440 0h160v-160H620v160ZM180-180h160v-160H180v160Zm440 0h160v-160H620v160Z\"/>\n",
              "  </svg>\n",
              "    </button>\n",
              "\n",
              "  <style>\n",
              "    .colab-df-container {\n",
              "      display:flex;\n",
              "      gap: 12px;\n",
              "    }\n",
              "\n",
              "    .colab-df-convert {\n",
              "      background-color: #E8F0FE;\n",
              "      border: none;\n",
              "      border-radius: 50%;\n",
              "      cursor: pointer;\n",
              "      display: none;\n",
              "      fill: #1967D2;\n",
              "      height: 32px;\n",
              "      padding: 0 0 0 0;\n",
              "      width: 32px;\n",
              "    }\n",
              "\n",
              "    .colab-df-convert:hover {\n",
              "      background-color: #E2EBFA;\n",
              "      box-shadow: 0px 1px 2px rgba(60, 64, 67, 0.3), 0px 1px 3px 1px rgba(60, 64, 67, 0.15);\n",
              "      fill: #174EA6;\n",
              "    }\n",
              "\n",
              "    .colab-df-buttons div {\n",
              "      margin-bottom: 4px;\n",
              "    }\n",
              "\n",
              "    [theme=dark] .colab-df-convert {\n",
              "      background-color: #3B4455;\n",
              "      fill: #D2E3FC;\n",
              "    }\n",
              "\n",
              "    [theme=dark] .colab-df-convert:hover {\n",
              "      background-color: #434B5C;\n",
              "      box-shadow: 0px 1px 3px 1px rgba(0, 0, 0, 0.15);\n",
              "      filter: drop-shadow(0px 1px 2px rgba(0, 0, 0, 0.3));\n",
              "      fill: #FFFFFF;\n",
              "    }\n",
              "  </style>\n",
              "\n",
              "    <script>\n",
              "      const buttonEl =\n",
              "        document.querySelector('#df-0b8c5ed7-05ac-491b-9e7f-565120edba19 button.colab-df-convert');\n",
              "      buttonEl.style.display =\n",
              "        google.colab.kernel.accessAllowed ? 'block' : 'none';\n",
              "\n",
              "      async function convertToInteractive(key) {\n",
              "        const element = document.querySelector('#df-0b8c5ed7-05ac-491b-9e7f-565120edba19');\n",
              "        const dataTable =\n",
              "          await google.colab.kernel.invokeFunction('convertToInteractive',\n",
              "                                                    [key], {});\n",
              "        if (!dataTable) return;\n",
              "\n",
              "        const docLinkHtml = 'Like what you see? Visit the ' +\n",
              "          '<a target=\"_blank\" href=https://colab.research.google.com/notebooks/data_table.ipynb>data table notebook</a>'\n",
              "          + ' to learn more about interactive tables.';\n",
              "        element.innerHTML = '';\n",
              "        dataTable['output_type'] = 'display_data';\n",
              "        await google.colab.output.renderOutput(dataTable, element);\n",
              "        const docLink = document.createElement('div');\n",
              "        docLink.innerHTML = docLinkHtml;\n",
              "        element.appendChild(docLink);\n",
              "      }\n",
              "    </script>\n",
              "  </div>\n",
              "\n",
              "\n",
              "<div id=\"df-00dc8018-9ebc-463b-a9a6-552e52907bab\">\n",
              "  <button class=\"colab-df-quickchart\" onclick=\"quickchart('df-00dc8018-9ebc-463b-a9a6-552e52907bab')\"\n",
              "            title=\"Suggest charts\"\n",
              "            style=\"display:none;\">\n",
              "\n",
              "<svg xmlns=\"http://www.w3.org/2000/svg\" height=\"24px\"viewBox=\"0 0 24 24\"\n",
              "     width=\"24px\">\n",
              "    <g>\n",
              "        <path d=\"M19 3H5c-1.1 0-2 .9-2 2v14c0 1.1.9 2 2 2h14c1.1 0 2-.9 2-2V5c0-1.1-.9-2-2-2zM9 17H7v-7h2v7zm4 0h-2V7h2v10zm4 0h-2v-4h2v4z\"/>\n",
              "    </g>\n",
              "</svg>\n",
              "  </button>\n",
              "\n",
              "<style>\n",
              "  .colab-df-quickchart {\n",
              "      --bg-color: #E8F0FE;\n",
              "      --fill-color: #1967D2;\n",
              "      --hover-bg-color: #E2EBFA;\n",
              "      --hover-fill-color: #174EA6;\n",
              "      --disabled-fill-color: #AAA;\n",
              "      --disabled-bg-color: #DDD;\n",
              "  }\n",
              "\n",
              "  [theme=dark] .colab-df-quickchart {\n",
              "      --bg-color: #3B4455;\n",
              "      --fill-color: #D2E3FC;\n",
              "      --hover-bg-color: #434B5C;\n",
              "      --hover-fill-color: #FFFFFF;\n",
              "      --disabled-bg-color: #3B4455;\n",
              "      --disabled-fill-color: #666;\n",
              "  }\n",
              "\n",
              "  .colab-df-quickchart {\n",
              "    background-color: var(--bg-color);\n",
              "    border: none;\n",
              "    border-radius: 50%;\n",
              "    cursor: pointer;\n",
              "    display: none;\n",
              "    fill: var(--fill-color);\n",
              "    height: 32px;\n",
              "    padding: 0;\n",
              "    width: 32px;\n",
              "  }\n",
              "\n",
              "  .colab-df-quickchart:hover {\n",
              "    background-color: var(--hover-bg-color);\n",
              "    box-shadow: 0 1px 2px rgba(60, 64, 67, 0.3), 0 1px 3px 1px rgba(60, 64, 67, 0.15);\n",
              "    fill: var(--button-hover-fill-color);\n",
              "  }\n",
              "\n",
              "  .colab-df-quickchart-complete:disabled,\n",
              "  .colab-df-quickchart-complete:disabled:hover {\n",
              "    background-color: var(--disabled-bg-color);\n",
              "    fill: var(--disabled-fill-color);\n",
              "    box-shadow: none;\n",
              "  }\n",
              "\n",
              "  .colab-df-spinner {\n",
              "    border: 2px solid var(--fill-color);\n",
              "    border-color: transparent;\n",
              "    border-bottom-color: var(--fill-color);\n",
              "    animation:\n",
              "      spin 1s steps(1) infinite;\n",
              "  }\n",
              "\n",
              "  @keyframes spin {\n",
              "    0% {\n",
              "      border-color: transparent;\n",
              "      border-bottom-color: var(--fill-color);\n",
              "      border-left-color: var(--fill-color);\n",
              "    }\n",
              "    20% {\n",
              "      border-color: transparent;\n",
              "      border-left-color: var(--fill-color);\n",
              "      border-top-color: var(--fill-color);\n",
              "    }\n",
              "    30% {\n",
              "      border-color: transparent;\n",
              "      border-left-color: var(--fill-color);\n",
              "      border-top-color: var(--fill-color);\n",
              "      border-right-color: var(--fill-color);\n",
              "    }\n",
              "    40% {\n",
              "      border-color: transparent;\n",
              "      border-right-color: var(--fill-color);\n",
              "      border-top-color: var(--fill-color);\n",
              "    }\n",
              "    60% {\n",
              "      border-color: transparent;\n",
              "      border-right-color: var(--fill-color);\n",
              "    }\n",
              "    80% {\n",
              "      border-color: transparent;\n",
              "      border-right-color: var(--fill-color);\n",
              "      border-bottom-color: var(--fill-color);\n",
              "    }\n",
              "    90% {\n",
              "      border-color: transparent;\n",
              "      border-bottom-color: var(--fill-color);\n",
              "    }\n",
              "  }\n",
              "</style>\n",
              "\n",
              "  <script>\n",
              "    async function quickchart(key) {\n",
              "      const quickchartButtonEl =\n",
              "        document.querySelector('#' + key + ' button');\n",
              "      quickchartButtonEl.disabled = true;  // To prevent multiple clicks.\n",
              "      quickchartButtonEl.classList.add('colab-df-spinner');\n",
              "      try {\n",
              "        const charts = await google.colab.kernel.invokeFunction(\n",
              "            'suggestCharts', [key], {});\n",
              "      } catch (error) {\n",
              "        console.error('Error during call to suggestCharts:', error);\n",
              "      }\n",
              "      quickchartButtonEl.classList.remove('colab-df-spinner');\n",
              "      quickchartButtonEl.classList.add('colab-df-quickchart-complete');\n",
              "    }\n",
              "    (() => {\n",
              "      let quickchartButtonEl =\n",
              "        document.querySelector('#df-00dc8018-9ebc-463b-a9a6-552e52907bab button');\n",
              "      quickchartButtonEl.style.display =\n",
              "        google.colab.kernel.accessAllowed ? 'block' : 'none';\n",
              "    })();\n",
              "  </script>\n",
              "</div>\n",
              "\n",
              "    </div>\n",
              "  </div>\n"
            ],
            "application/vnd.google.colaboratory.intrinsic+json": {
              "type": "dataframe",
              "variable_name": "df",
              "summary": "{\n  \"name\": \"df\",\n  \"rows\": 2880,\n  \"fields\": [\n    {\n      \"column\": \"File\",\n      \"properties\": {\n        \"dtype\": \"string\",\n        \"num_unique_values\": 1440,\n        \"samples\": [\n          \"03-01-03-02-01-01-09.wav\",\n          \"03-01-08-01-01-01-10.wav\",\n          \"03-01-08-01-01-02-18.wav\"\n        ],\n        \"semantic_type\": \"\",\n        \"description\": \"\"\n      }\n    },\n    {\n      \"column\": \"True Emotion\",\n      \"properties\": {\n        \"dtype\": \"category\",\n        \"num_unique_values\": 8,\n        \"samples\": [\n          \"Surprised\",\n          \"Disgust\",\n          \"Angry\"\n        ],\n        \"semantic_type\": \"\",\n        \"description\": \"\"\n      }\n    },\n    {\n      \"column\": \"True Sentiment\",\n      \"properties\": {\n        \"dtype\": \"category\",\n        \"num_unique_values\": 3,\n        \"samples\": [\n          \"Negative\",\n          \"Positive\",\n          \"Neutral\"\n        ],\n        \"semantic_type\": \"\",\n        \"description\": \"\"\n      }\n    },\n    {\n      \"column\": \"MFCC\",\n      \"properties\": {\n        \"dtype\": \"object\",\n        \"semantic_type\": \"\",\n        \"description\": \"\"\n      }\n    }\n  ]\n}"
            }
          },
          "metadata": {},
          "execution_count": 8
        }
      ]
    },
    {
      "cell_type": "markdown",
      "source": [
        "Let's take a look at what the MFCC looks like."
      ],
      "metadata": {
        "id": "0Ap0BAFdg4FM"
      }
    },
    {
      "cell_type": "code",
      "source": [
        "print(df.loc[0, 'MFCC'])"
      ],
      "metadata": {
        "colab": {
          "base_uri": "https://localhost:8080/"
        },
        "id": "xAVFRGPBg9oT",
        "outputId": "c3a99805-0745-4c59-b779-dc354e996ed9"
      },
      "execution_count": 9,
      "outputs": [
        {
          "output_type": "stream",
          "name": "stdout",
          "text": [
            "[[-676.31586 -676.31586 -676.31586 ...    0.         0.         0.     ]\n",
            " [   0.         0.         0.      ...    0.         0.         0.     ]\n",
            " [   0.         0.         0.      ...    0.         0.         0.     ]\n",
            " ...\n",
            " [   0.         0.         0.      ...    0.         0.         0.     ]\n",
            " [   0.         0.         0.      ...    0.         0.         0.     ]\n",
            " [   0.         0.         0.      ...    0.         0.         0.     ]]\n"
          ]
        }
      ]
    },
    {
      "cell_type": "code",
      "source": [
        "print(df.loc[0, 'MFCC'].shape)"
      ],
      "metadata": {
        "colab": {
          "base_uri": "https://localhost:8080/"
        },
        "id": "xU4KRCjvfRPb",
        "outputId": "04d4cf22-fc07-49da-e126-a02f402db1d0"
      },
      "execution_count": 10,
      "outputs": [
        {
          "output_type": "stream",
          "name": "stdout",
          "text": [
            "(12, 174)\n"
          ]
        }
      ]
    },
    {
      "cell_type": "markdown",
      "source": [
        "Great -- now let's build our train/test sets!"
      ],
      "metadata": {
        "id": "gWen8bzAoDuE"
      }
    },
    {
      "cell_type": "code",
      "source": [
        "from sklearn.model_selection import train_test_split\n",
        "from tensorflow.keras.utils import to_categorical\n",
        "\n",
        "# Extract MFCCs and labels\n",
        "X = np.array(df['MFCC'].tolist())  # MFCCs should already be stored as numpy arrays\n",
        "y = np.array(df['True Sentiment'].tolist())  # Sentiment labels\n",
        "\n",
        "# Check the shape of the MFCCs (should be 2D per sample, e.g., (12, 174))\n",
        "print(f\"MFCC shape: {X[0].shape}\")\n",
        "\n",
        "# Reshape X for CNN input (adding a channel dimension)\n",
        "X = X[..., np.newaxis]\n",
        "\n",
        "# One-hot encode the labels\n",
        "for sentiment in y:\n",
        "    if sentiment == \"Positive\":\n",
        "        y[y == sentiment] = 2\n",
        "    elif sentiment == \"Neutral\":\n",
        "        y[y == sentiment] = 1\n",
        "    elif sentiment == \"Negative\":\n",
        "        y[y == sentiment] = 0\n",
        "\n",
        "y = to_categorical(y, num_classes=3) # this will encode each class as a (1,3) array\n",
        "\n",
        "# Split into training and testing datasets\n",
        "X_train, X_test, y_train, y_test = train_test_split(X, y, test_size=0.2, random_state=42)\n",
        "\n",
        "print(f\"Training data shape: {X_train.shape}\")\n",
        "print(f\"Test data shape: {X_test.shape}\")\n"
      ],
      "metadata": {
        "colab": {
          "base_uri": "https://localhost:8080/"
        },
        "id": "0qd0OSLngW6n",
        "outputId": "349cf22c-a146-4b8c-e388-7dbbd38713a4"
      },
      "execution_count": 11,
      "outputs": [
        {
          "output_type": "stream",
          "name": "stdout",
          "text": [
            "MFCC shape: (12, 174)\n",
            "Training data shape: (2304, 12, 174, 1)\n",
            "Test data shape: (576, 12, 174, 1)\n"
          ]
        }
      ]
    },
    {
      "cell_type": "markdown",
      "source": [
        "If 1 is in the first column, it is Negative. If it is in the second column, it is Neutral. If it is in the third column, it is Positive."
      ],
      "metadata": {
        "id": "p_JIZXupxz-B"
      }
    },
    {
      "cell_type": "code",
      "source": [
        "print(y)"
      ],
      "metadata": {
        "colab": {
          "base_uri": "https://localhost:8080/"
        },
        "id": "tsUzJNrexwVL",
        "outputId": "9a04cb4e-6a8d-4363-ba9f-2a2d05762fe0"
      },
      "execution_count": 12,
      "outputs": [
        {
          "output_type": "stream",
          "name": "stdout",
          "text": [
            "[[1. 0. 0.]\n",
            " [0. 0. 1.]\n",
            " [0. 0. 1.]\n",
            " ...\n",
            " [0. 0. 1.]\n",
            " [0. 0. 1.]\n",
            " [0. 0. 1.]]\n"
          ]
        }
      ]
    },
    {
      "cell_type": "markdown",
      "source": [
        "## 3. Build & Train a CNN"
      ],
      "metadata": {
        "id": "aTw9p3gXtZAw"
      }
    },
    {
      "cell_type": "markdown",
      "source": [
        "Let's make sure we use our GPU to speed up training."
      ],
      "metadata": {
        "id": "pCC6kJNJt3gz"
      }
    },
    {
      "cell_type": "code",
      "source": [
        "# Check if TensorFlow is detecting the GPU\n",
        "import tensorflow as tf\n",
        "physical_devices = tf.config.list_physical_devices('GPU')\n",
        "if physical_devices:\n",
        "    print(f\"GPU available: {physical_devices}\")\n",
        "else:\n",
        "    print(\"No GPU found.\")"
      ],
      "metadata": {
        "colab": {
          "base_uri": "https://localhost:8080/"
        },
        "id": "K3-Lv4ZwuDha",
        "outputId": "ffb667b6-35c7-495a-ce59-5040f9077043"
      },
      "execution_count": 13,
      "outputs": [
        {
          "output_type": "stream",
          "name": "stdout",
          "text": [
            "GPU available: [PhysicalDevice(name='/physical_device:GPU:0', device_type='GPU')]\n"
          ]
        }
      ]
    },
    {
      "cell_type": "code",
      "source": [
        "import tensorflow as tf\n",
        "from tensorflow.keras.models import Sequential\n",
        "from tensorflow.keras.layers import Conv2D, MaxPooling2D, Flatten, Dense, Dropout\n",
        "from tensorflow.keras.optimizers import Adam\n",
        "\n",
        "# Adjust input shape to reflect (174, 12) MFCC data\n",
        "# Input shape: (time steps, MFCC coefficients, channels)\n",
        "input_shape = (174, 12, 1)  # 174 time steps, 12 MFCC coefficients, 1 channel (grayscale-like)\n",
        "\n",
        "# Build the CNN model\n",
        "model = Sequential([\n",
        "    # First Conv2D layer\n",
        "    Conv2D(32, (3, 3), activation='relu', input_shape=input_shape, padding='same'),\n",
        "    MaxPooling2D((2, 2)),  # Max pooling layer to reduce dimensions\n",
        "\n",
        "    # Second Conv2D layer\n",
        "    Conv2D(64, (3, 3), activation='relu', padding='same'),\n",
        "    MaxPooling2D((2, 2)),\n",
        "\n",
        "    # Third Conv2D layer\n",
        "    Conv2D(128, (3, 3), activation='relu', padding='same'),\n",
        "    MaxPooling2D((2, 2)),\n",
        "\n",
        "    # Flatten layer to convert 2D matrices into 1D feature vector\n",
        "    Flatten(),\n",
        "\n",
        "    # Fully connected dense layer\n",
        "    Dense(128, activation='relu'),\n",
        "\n",
        "    # Dropout layer for regularization\n",
        "    Dropout(0.5),\n",
        "\n",
        "    # Output layer with softmax activation for multi-class classification\n",
        "    Dense(3, activation='softmax')  # Output layer for 3 classes (Negative, Neutral, Positive)\n",
        "])\n",
        "\n",
        "# Compile the model\n",
        "model.compile(optimizer=Adam(), loss='categorical_crossentropy', metrics=['accuracy'])\n",
        "\n",
        "# Print model summary\n",
        "model.summary()\n",
        "\n",
        "# Train the model\n",
        "model.fit(X_train, y_train, epochs=10, batch_size=32, validation_data=(X_test, y_test))"
      ],
      "metadata": {
        "colab": {
          "base_uri": "https://localhost:8080/",
          "height": 851
        },
        "id": "-QrPgFfMtb8g",
        "outputId": "0b71311e-d84d-4a56-da32-f89c577b0322"
      },
      "execution_count": 15,
      "outputs": [
        {
          "output_type": "display_data",
          "data": {
            "text/plain": [
              "\u001b[1mModel: \"sequential_1\"\u001b[0m\n"
            ],
            "text/html": [
              "<pre style=\"white-space:pre;overflow-x:auto;line-height:normal;font-family:Menlo,'DejaVu Sans Mono',consolas,'Courier New',monospace\"><span style=\"font-weight: bold\">Model: \"sequential_1\"</span>\n",
              "</pre>\n"
            ]
          },
          "metadata": {}
        },
        {
          "output_type": "display_data",
          "data": {
            "text/plain": [
              "┏━━━━━━━━━━━━━━━━━━━━━━━━━━━━━━━━━━━━━━┳━━━━━━━━━━━━━━━━━━━━━━━━━━━━━┳━━━━━━━━━━━━━━━━━┓\n",
              "┃\u001b[1m \u001b[0m\u001b[1mLayer (type)                        \u001b[0m\u001b[1m \u001b[0m┃\u001b[1m \u001b[0m\u001b[1mOutput Shape               \u001b[0m\u001b[1m \u001b[0m┃\u001b[1m \u001b[0m\u001b[1m        Param #\u001b[0m\u001b[1m \u001b[0m┃\n",
              "┡━━━━━━━━━━━━━━━━━━━━━━━━━━━━━━━━━━━━━━╇━━━━━━━━━━━━━━━━━━━━━━━━━━━━━╇━━━━━━━━━━━━━━━━━┩\n",
              "│ conv2d_3 (\u001b[38;5;33mConv2D\u001b[0m)                    │ (\u001b[38;5;45mNone\u001b[0m, \u001b[38;5;34m174\u001b[0m, \u001b[38;5;34m12\u001b[0m, \u001b[38;5;34m32\u001b[0m)         │             \u001b[38;5;34m320\u001b[0m │\n",
              "├──────────────────────────────────────┼─────────────────────────────┼─────────────────┤\n",
              "│ max_pooling2d_3 (\u001b[38;5;33mMaxPooling2D\u001b[0m)       │ (\u001b[38;5;45mNone\u001b[0m, \u001b[38;5;34m87\u001b[0m, \u001b[38;5;34m6\u001b[0m, \u001b[38;5;34m32\u001b[0m)           │               \u001b[38;5;34m0\u001b[0m │\n",
              "├──────────────────────────────────────┼─────────────────────────────┼─────────────────┤\n",
              "│ conv2d_4 (\u001b[38;5;33mConv2D\u001b[0m)                    │ (\u001b[38;5;45mNone\u001b[0m, \u001b[38;5;34m87\u001b[0m, \u001b[38;5;34m6\u001b[0m, \u001b[38;5;34m64\u001b[0m)           │          \u001b[38;5;34m18,496\u001b[0m │\n",
              "├──────────────────────────────────────┼─────────────────────────────┼─────────────────┤\n",
              "│ max_pooling2d_4 (\u001b[38;5;33mMaxPooling2D\u001b[0m)       │ (\u001b[38;5;45mNone\u001b[0m, \u001b[38;5;34m43\u001b[0m, \u001b[38;5;34m3\u001b[0m, \u001b[38;5;34m64\u001b[0m)           │               \u001b[38;5;34m0\u001b[0m │\n",
              "├──────────────────────────────────────┼─────────────────────────────┼─────────────────┤\n",
              "│ conv2d_5 (\u001b[38;5;33mConv2D\u001b[0m)                    │ (\u001b[38;5;45mNone\u001b[0m, \u001b[38;5;34m43\u001b[0m, \u001b[38;5;34m3\u001b[0m, \u001b[38;5;34m128\u001b[0m)          │          \u001b[38;5;34m73,856\u001b[0m │\n",
              "├──────────────────────────────────────┼─────────────────────────────┼─────────────────┤\n",
              "│ max_pooling2d_5 (\u001b[38;5;33mMaxPooling2D\u001b[0m)       │ (\u001b[38;5;45mNone\u001b[0m, \u001b[38;5;34m21\u001b[0m, \u001b[38;5;34m1\u001b[0m, \u001b[38;5;34m128\u001b[0m)          │               \u001b[38;5;34m0\u001b[0m │\n",
              "├──────────────────────────────────────┼─────────────────────────────┼─────────────────┤\n",
              "│ flatten_1 (\u001b[38;5;33mFlatten\u001b[0m)                  │ (\u001b[38;5;45mNone\u001b[0m, \u001b[38;5;34m2688\u001b[0m)                │               \u001b[38;5;34m0\u001b[0m │\n",
              "├──────────────────────────────────────┼─────────────────────────────┼─────────────────┤\n",
              "│ dense_2 (\u001b[38;5;33mDense\u001b[0m)                      │ (\u001b[38;5;45mNone\u001b[0m, \u001b[38;5;34m128\u001b[0m)                 │         \u001b[38;5;34m344,192\u001b[0m │\n",
              "├──────────────────────────────────────┼─────────────────────────────┼─────────────────┤\n",
              "│ dropout_1 (\u001b[38;5;33mDropout\u001b[0m)                  │ (\u001b[38;5;45mNone\u001b[0m, \u001b[38;5;34m128\u001b[0m)                 │               \u001b[38;5;34m0\u001b[0m │\n",
              "├──────────────────────────────────────┼─────────────────────────────┼─────────────────┤\n",
              "│ dense_3 (\u001b[38;5;33mDense\u001b[0m)                      │ (\u001b[38;5;45mNone\u001b[0m, \u001b[38;5;34m3\u001b[0m)                   │             \u001b[38;5;34m387\u001b[0m │\n",
              "└──────────────────────────────────────┴─────────────────────────────┴─────────────────┘\n"
            ],
            "text/html": [
              "<pre style=\"white-space:pre;overflow-x:auto;line-height:normal;font-family:Menlo,'DejaVu Sans Mono',consolas,'Courier New',monospace\">┏━━━━━━━━━━━━━━━━━━━━━━━━━━━━━━━━━━━━━━┳━━━━━━━━━━━━━━━━━━━━━━━━━━━━━┳━━━━━━━━━━━━━━━━━┓\n",
              "┃<span style=\"font-weight: bold\"> Layer (type)                         </span>┃<span style=\"font-weight: bold\"> Output Shape                </span>┃<span style=\"font-weight: bold\">         Param # </span>┃\n",
              "┡━━━━━━━━━━━━━━━━━━━━━━━━━━━━━━━━━━━━━━╇━━━━━━━━━━━━━━━━━━━━━━━━━━━━━╇━━━━━━━━━━━━━━━━━┩\n",
              "│ conv2d_3 (<span style=\"color: #0087ff; text-decoration-color: #0087ff\">Conv2D</span>)                    │ (<span style=\"color: #00d7ff; text-decoration-color: #00d7ff\">None</span>, <span style=\"color: #00af00; text-decoration-color: #00af00\">174</span>, <span style=\"color: #00af00; text-decoration-color: #00af00\">12</span>, <span style=\"color: #00af00; text-decoration-color: #00af00\">32</span>)         │             <span style=\"color: #00af00; text-decoration-color: #00af00\">320</span> │\n",
              "├──────────────────────────────────────┼─────────────────────────────┼─────────────────┤\n",
              "│ max_pooling2d_3 (<span style=\"color: #0087ff; text-decoration-color: #0087ff\">MaxPooling2D</span>)       │ (<span style=\"color: #00d7ff; text-decoration-color: #00d7ff\">None</span>, <span style=\"color: #00af00; text-decoration-color: #00af00\">87</span>, <span style=\"color: #00af00; text-decoration-color: #00af00\">6</span>, <span style=\"color: #00af00; text-decoration-color: #00af00\">32</span>)           │               <span style=\"color: #00af00; text-decoration-color: #00af00\">0</span> │\n",
              "├──────────────────────────────────────┼─────────────────────────────┼─────────────────┤\n",
              "│ conv2d_4 (<span style=\"color: #0087ff; text-decoration-color: #0087ff\">Conv2D</span>)                    │ (<span style=\"color: #00d7ff; text-decoration-color: #00d7ff\">None</span>, <span style=\"color: #00af00; text-decoration-color: #00af00\">87</span>, <span style=\"color: #00af00; text-decoration-color: #00af00\">6</span>, <span style=\"color: #00af00; text-decoration-color: #00af00\">64</span>)           │          <span style=\"color: #00af00; text-decoration-color: #00af00\">18,496</span> │\n",
              "├──────────────────────────────────────┼─────────────────────────────┼─────────────────┤\n",
              "│ max_pooling2d_4 (<span style=\"color: #0087ff; text-decoration-color: #0087ff\">MaxPooling2D</span>)       │ (<span style=\"color: #00d7ff; text-decoration-color: #00d7ff\">None</span>, <span style=\"color: #00af00; text-decoration-color: #00af00\">43</span>, <span style=\"color: #00af00; text-decoration-color: #00af00\">3</span>, <span style=\"color: #00af00; text-decoration-color: #00af00\">64</span>)           │               <span style=\"color: #00af00; text-decoration-color: #00af00\">0</span> │\n",
              "├──────────────────────────────────────┼─────────────────────────────┼─────────────────┤\n",
              "│ conv2d_5 (<span style=\"color: #0087ff; text-decoration-color: #0087ff\">Conv2D</span>)                    │ (<span style=\"color: #00d7ff; text-decoration-color: #00d7ff\">None</span>, <span style=\"color: #00af00; text-decoration-color: #00af00\">43</span>, <span style=\"color: #00af00; text-decoration-color: #00af00\">3</span>, <span style=\"color: #00af00; text-decoration-color: #00af00\">128</span>)          │          <span style=\"color: #00af00; text-decoration-color: #00af00\">73,856</span> │\n",
              "├──────────────────────────────────────┼─────────────────────────────┼─────────────────┤\n",
              "│ max_pooling2d_5 (<span style=\"color: #0087ff; text-decoration-color: #0087ff\">MaxPooling2D</span>)       │ (<span style=\"color: #00d7ff; text-decoration-color: #00d7ff\">None</span>, <span style=\"color: #00af00; text-decoration-color: #00af00\">21</span>, <span style=\"color: #00af00; text-decoration-color: #00af00\">1</span>, <span style=\"color: #00af00; text-decoration-color: #00af00\">128</span>)          │               <span style=\"color: #00af00; text-decoration-color: #00af00\">0</span> │\n",
              "├──────────────────────────────────────┼─────────────────────────────┼─────────────────┤\n",
              "│ flatten_1 (<span style=\"color: #0087ff; text-decoration-color: #0087ff\">Flatten</span>)                  │ (<span style=\"color: #00d7ff; text-decoration-color: #00d7ff\">None</span>, <span style=\"color: #00af00; text-decoration-color: #00af00\">2688</span>)                │               <span style=\"color: #00af00; text-decoration-color: #00af00\">0</span> │\n",
              "├──────────────────────────────────────┼─────────────────────────────┼─────────────────┤\n",
              "│ dense_2 (<span style=\"color: #0087ff; text-decoration-color: #0087ff\">Dense</span>)                      │ (<span style=\"color: #00d7ff; text-decoration-color: #00d7ff\">None</span>, <span style=\"color: #00af00; text-decoration-color: #00af00\">128</span>)                 │         <span style=\"color: #00af00; text-decoration-color: #00af00\">344,192</span> │\n",
              "├──────────────────────────────────────┼─────────────────────────────┼─────────────────┤\n",
              "│ dropout_1 (<span style=\"color: #0087ff; text-decoration-color: #0087ff\">Dropout</span>)                  │ (<span style=\"color: #00d7ff; text-decoration-color: #00d7ff\">None</span>, <span style=\"color: #00af00; text-decoration-color: #00af00\">128</span>)                 │               <span style=\"color: #00af00; text-decoration-color: #00af00\">0</span> │\n",
              "├──────────────────────────────────────┼─────────────────────────────┼─────────────────┤\n",
              "│ dense_3 (<span style=\"color: #0087ff; text-decoration-color: #0087ff\">Dense</span>)                      │ (<span style=\"color: #00d7ff; text-decoration-color: #00d7ff\">None</span>, <span style=\"color: #00af00; text-decoration-color: #00af00\">3</span>)                   │             <span style=\"color: #00af00; text-decoration-color: #00af00\">387</span> │\n",
              "└──────────────────────────────────────┴─────────────────────────────┴─────────────────┘\n",
              "</pre>\n"
            ]
          },
          "metadata": {}
        },
        {
          "output_type": "display_data",
          "data": {
            "text/plain": [
              "\u001b[1m Total params: \u001b[0m\u001b[38;5;34m437,251\u001b[0m (1.67 MB)\n"
            ],
            "text/html": [
              "<pre style=\"white-space:pre;overflow-x:auto;line-height:normal;font-family:Menlo,'DejaVu Sans Mono',consolas,'Courier New',monospace\"><span style=\"font-weight: bold\"> Total params: </span><span style=\"color: #00af00; text-decoration-color: #00af00\">437,251</span> (1.67 MB)\n",
              "</pre>\n"
            ]
          },
          "metadata": {}
        },
        {
          "output_type": "display_data",
          "data": {
            "text/plain": [
              "\u001b[1m Trainable params: \u001b[0m\u001b[38;5;34m437,251\u001b[0m (1.67 MB)\n"
            ],
            "text/html": [
              "<pre style=\"white-space:pre;overflow-x:auto;line-height:normal;font-family:Menlo,'DejaVu Sans Mono',consolas,'Courier New',monospace\"><span style=\"font-weight: bold\"> Trainable params: </span><span style=\"color: #00af00; text-decoration-color: #00af00\">437,251</span> (1.67 MB)\n",
              "</pre>\n"
            ]
          },
          "metadata": {}
        },
        {
          "output_type": "display_data",
          "data": {
            "text/plain": [
              "\u001b[1m Non-trainable params: \u001b[0m\u001b[38;5;34m0\u001b[0m (0.00 B)\n"
            ],
            "text/html": [
              "<pre style=\"white-space:pre;overflow-x:auto;line-height:normal;font-family:Menlo,'DejaVu Sans Mono',consolas,'Courier New',monospace\"><span style=\"font-weight: bold\"> Non-trainable params: </span><span style=\"color: #00af00; text-decoration-color: #00af00\">0</span> (0.00 B)\n",
              "</pre>\n"
            ]
          },
          "metadata": {}
        },
        {
          "output_type": "stream",
          "name": "stdout",
          "text": [
            "Epoch 1/10\n",
            "\u001b[1m72/72\u001b[0m \u001b[32m━━━━━━━━━━━━━━━━━━━━\u001b[0m\u001b[37m\u001b[0m \u001b[1m7s\u001b[0m 27ms/step - accuracy: 0.4508 - loss: 10.4853 - val_accuracy: 0.4809 - val_loss: 0.9593\n",
            "Epoch 2/10\n",
            "\u001b[1m72/72\u001b[0m \u001b[32m━━━━━━━━━━━━━━━━━━━━\u001b[0m\u001b[37m\u001b[0m \u001b[1m5s\u001b[0m 6ms/step - accuracy: 0.5260 - loss: 0.9402 - val_accuracy: 0.5712 - val_loss: 0.8828\n",
            "Epoch 3/10\n",
            "\u001b[1m72/72\u001b[0m \u001b[32m━━━━━━━━━━━━━━━━━━━━\u001b[0m\u001b[37m\u001b[0m \u001b[1m1s\u001b[0m 5ms/step - accuracy: 0.5381 - loss: 0.8922 - val_accuracy: 0.5990 - val_loss: 0.8087\n",
            "Epoch 4/10\n",
            "\u001b[1m72/72\u001b[0m \u001b[32m━━━━━━━━━━━━━━━━━━━━\u001b[0m\u001b[37m\u001b[0m \u001b[1m0s\u001b[0m 5ms/step - accuracy: 0.5892 - loss: 0.8339 - val_accuracy: 0.5781 - val_loss: 0.7475\n",
            "Epoch 5/10\n",
            "\u001b[1m72/72\u001b[0m \u001b[32m━━━━━━━━━━━━━━━━━━━━\u001b[0m\u001b[37m\u001b[0m \u001b[1m0s\u001b[0m 5ms/step - accuracy: 0.5656 - loss: 0.7692 - val_accuracy: 0.6684 - val_loss: 0.6560\n",
            "Epoch 6/10\n",
            "\u001b[1m72/72\u001b[0m \u001b[32m━━━━━━━━━━━━━━━━━━━━\u001b[0m\u001b[37m\u001b[0m \u001b[1m1s\u001b[0m 5ms/step - accuracy: 0.6020 - loss: 0.7392 - val_accuracy: 0.6667 - val_loss: 0.6628\n",
            "Epoch 7/10\n",
            "\u001b[1m72/72\u001b[0m \u001b[32m━━━━━━━━━━━━━━━━━━━━\u001b[0m\u001b[37m\u001b[0m \u001b[1m0s\u001b[0m 4ms/step - accuracy: 0.6070 - loss: 0.7233 - val_accuracy: 0.7049 - val_loss: 0.6085\n",
            "Epoch 8/10\n",
            "\u001b[1m72/72\u001b[0m \u001b[32m━━━━━━━━━━━━━━━━━━━━\u001b[0m\u001b[37m\u001b[0m \u001b[1m1s\u001b[0m 5ms/step - accuracy: 0.6667 - loss: 0.6405 - val_accuracy: 0.6545 - val_loss: 0.6315\n",
            "Epoch 9/10\n",
            "\u001b[1m72/72\u001b[0m \u001b[32m━━━━━━━━━━━━━━━━━━━━\u001b[0m\u001b[37m\u001b[0m \u001b[1m1s\u001b[0m 5ms/step - accuracy: 0.6673 - loss: 0.6306 - val_accuracy: 0.7413 - val_loss: 0.5572\n",
            "Epoch 10/10\n",
            "\u001b[1m72/72\u001b[0m \u001b[32m━━━━━━━━━━━━━━━━━━━━\u001b[0m\u001b[37m\u001b[0m \u001b[1m0s\u001b[0m 6ms/step - accuracy: 0.6997 - loss: 0.5785 - val_accuracy: 0.7847 - val_loss: 0.4891\n"
          ]
        },
        {
          "output_type": "execute_result",
          "data": {
            "text/plain": [
              "<keras.src.callbacks.history.History at 0x7ed5bc0f18a0>"
            ]
          },
          "metadata": {},
          "execution_count": 15
        }
      ]
    },
    {
      "cell_type": "markdown",
      "source": [
        "Great -- after 10 epochs we can see that our fully trained model has about 78% accuracy on our test set! This is way better than the 50% accuracy we saw with simple raw-text sentiment analysis, suggesting that there is signal in the dataset which cannot be captured in raw test."
      ],
      "metadata": {
        "id": "u5kDEvUWvihp"
      }
    },
    {
      "cell_type": "markdown",
      "source": [
        "## 4. Save our model and upload to Hugging Face"
      ],
      "metadata": {
        "id": "PFlLHLX9zBAM"
      }
    },
    {
      "cell_type": "markdown",
      "source": [
        "Now that we have a CNN model trained on MFCC for sentiment analysis, let's save it to Hugging Face so we can use it in our Streamlit app."
      ],
      "metadata": {
        "id": "BTM6dcWLzFwn"
      }
    },
    {
      "cell_type": "code",
      "source": [
        "model.save(\"RAVDESS_MFCC_Sentiment_Analysis.keras\")"
      ],
      "metadata": {
        "id": "kmg-iW8IAYGa"
      },
      "execution_count": 38,
      "outputs": []
    },
    {
      "cell_type": "markdown",
      "source": [
        "Now, we can take this keras file and upload it to the Hugging Face repo. Here is the link to the [RAVDESS MFCC Sentiment Analysis model repo](https://huggingface.co/ericphann/RAVDESS_MFCC_Sentiment_Analysis)."
      ],
      "metadata": {
        "id": "9PmMZZvjAaHg"
      }
    }
  ]
}